{
 "cells": [
  {
   "cell_type": "code",
   "execution_count": 7,
   "id": "349ef87e",
   "metadata": {},
   "outputs": [
    {
     "name": "stdout",
     "output_type": "stream",
     "text": [
      "ham\n",
      "['spam', 'ham', 'eggs']\n",
      "ham\n"
     ]
    }
   ],
   "source": [
    "# task 1\n",
    "shopping = [\"spam\", \"ham\", \"eggs\", \"ham\"]\n",
    "\n",
    "print(shopping[1])\n",
    "print(shopping[:3])\n",
    "print(shopping[-1])"
   ]
  },
  {
   "cell_type": "code",
   "execution_count": 8,
   "id": "38b5854e",
   "metadata": {},
   "outputs": [
    {
     "data": {
      "text/plain": [
       "[]"
      ]
     },
     "execution_count": 8,
     "metadata": {},
     "output_type": "execute_result"
    }
   ],
   "source": [
    "# task 2\n",
    "\n",
    "#Set up a list with the following elements:\n",
    "\n",
    "stops = [\"Croy\", \"Cumbernauld\", \"Falkirk High\", \"Linlithgow\", \"Livingston\", \"Haymarket\"]\n",
    "\n",
    "stops.append(\"Edinburgh Waverley\")\n",
    "stops.insert(0, \"Queen Street\")\n",
    "stops.index(\"Croy\")\n",
    "stops.insert(4, \"Polmont\")\n",
    "stops.remove(\"Haymarket\")\n",
    "stops.clear()\n",
    "\n",
    "stops\n",
    "\n",
    "\n"
   ]
  },
  {
   "cell_type": "code",
   "execution_count": 9,
   "id": "6171be73",
   "metadata": {},
   "outputs": [
    {
     "data": {
      "text/plain": [
       "{'name': 'Steph', 'age': 31, 'email': 'steph@codeclan.com'}"
      ]
     },
     "execution_count": 9,
     "metadata": {},
     "output_type": "execute_result"
    }
   ],
   "source": [
    "# task 3\n",
    "\n",
    "#Set up the following dictionary:\n",
    "\n",
    "person = {\"name\": \"Steph\", \"age\": 31, \"Instructor\" : True}\n",
    "\n",
    "#Do the following:\n",
    "\n",
    "#Return the keys, values and items from this dictionary\n",
    "\n",
    "person.keys()\n",
    "person.values()\n",
    "person.items()\n",
    "\n",
    "#Take out only the name from it\n",
    "\n",
    "person[\"name\"]\n",
    "\n",
    "#Add a new key:value pair, which adds the email \"steph@codeclan.com\" to the dictionary\n",
    "\n",
    "new = {\"email\":\"steph@codeclan.com\"}\n",
    "\n",
    "person.update(new)\n",
    "\n",
    "person\n",
    "\n",
    "#Delete the job description from the dictionary (Hint: look up the del function)\n",
    "\n",
    "person.pop(\"Instructor\")\n",
    "\n",
    "person"
   ]
  },
  {
   "cell_type": "code",
   "execution_count": 10,
   "id": "a6919e40",
   "metadata": {},
   "outputs": [
    {
     "name": "stdout",
     "output_type": "stream",
     "text": [
      "6\n",
      "2\n",
      "2\n",
      "6\n",
      "Maximum value  99\n",
      "difference is  98\n",
      "Not at index 0\n",
      "Not at index 1\n",
      "At index 2\n",
      "Not at index 3\n",
      "Not at index 4\n",
      "Not at index 5\n",
      "Not at index 6\n",
      "Not at index 7\n",
      "Not at index 8\n"
     ]
    },
    {
     "ename": "IndexError",
     "evalue": "list index out of range",
     "output_type": "error",
     "traceback": [
      "\u001b[0;31m---------------------------------------------------------------------------\u001b[0m",
      "\u001b[0;31mIndexError\u001b[0m                                Traceback (most recent call last)",
      "Input \u001b[0;32mIn [10]\u001b[0m, in \u001b[0;36m<cell line: 36>\u001b[0;34m()\u001b[0m\n\u001b[1;32m     34\u001b[0m \u001b[38;5;66;03m#Print True if the list contains a 2 next to a 2 somewhere.\u001b[39;00m\n\u001b[1;32m     36\u001b[0m \u001b[38;5;28;01mfor\u001b[39;00m i,j \u001b[38;5;129;01min\u001b[39;00m \u001b[38;5;28menumerate\u001b[39m(numbers):\n\u001b[0;32m---> 37\u001b[0m     \u001b[38;5;28;01mif\u001b[39;00m numbers[i] \u001b[38;5;241m==\u001b[39m \u001b[43mnumbers\u001b[49m\u001b[43m[\u001b[49m\u001b[43mi\u001b[49m\u001b[38;5;241;43m+\u001b[39;49m\u001b[38;5;241;43m1\u001b[39;49m\u001b[43m]\u001b[49m:\n\u001b[1;32m     38\u001b[0m         \u001b[38;5;28mprint\u001b[39m(\u001b[38;5;124mf\u001b[39m\u001b[38;5;124m\"\u001b[39m\u001b[38;5;124mAt index \u001b[39m\u001b[38;5;132;01m{\u001b[39;00mi\u001b[38;5;132;01m}\u001b[39;00m\u001b[38;5;124m\"\u001b[39m)\n\u001b[1;32m     39\u001b[0m     \u001b[38;5;28;01melse\u001b[39;00m:\n",
      "\u001b[0;31mIndexError\u001b[0m: list index out of range"
     ]
    }
   ],
   "source": [
    "# task 4\n",
    "\n",
    "# For the following list of numbers:\n",
    "\n",
    "import numpy as np\n",
    "\n",
    "numbers = [1, 6, 2, 2, 7, 1, 6, 13, 99, 7]\n",
    "\n",
    "#Print out a list of the even integers:\n",
    "\n",
    "for i in numbers:\n",
    "    if i % 2 == 0:\n",
    "        print(i)\n",
    "\n",
    "#Print the difference between the largest and smallest value:\n",
    "\n",
    "max_so_far = None\n",
    "\n",
    "for i in numbers:\n",
    "    if max_so_far == None or i > max_so_far:\n",
    "        max_so_far = i \n",
    "        \n",
    "print(\"Maximum value \", max_so_far)\n",
    "\n",
    "min_so_far = None\n",
    "\n",
    "for i in numbers:\n",
    "    if min_so_far == None or i < min_so_far:\n",
    "        min_so_far = i\n",
    "        \n",
    "print(\"difference is \", max_so_far - min_so_far)\n",
    "\n",
    "\n",
    "#Print True if the list contains a 2 next to a 2 somewhere.\n",
    "\n",
    "for i,j in enumerate(numbers):\n",
    "    if numbers[i] == numbers[i+1]:\n",
    "        print(f\"At index {i}\")\n",
    "    else:\n",
    "        print(f\"Not at index {i}\")\n",
    "\n",
    "#Print the sum of the numbers, BUT ignore any section of numbers starting with a 6 \n",
    "# and extending to the next 7. So [11, 6, 4, 99, 7, 11] would have sum of 22\n",
    "\n",
    "\n",
    "            "
   ]
  },
  {
   "cell_type": "code",
   "execution_count": null,
   "id": "c376a21f",
   "metadata": {},
   "outputs": [],
   "source": []
  },
  {
   "cell_type": "code",
   "execution_count": null,
   "id": "8e8ab9c0",
   "metadata": {},
   "outputs": [],
   "source": [
    "numbers_array = np.array(numbers)\n",
    "numbers_array.max()-numbers_array.min()"
   ]
  },
  {
   "cell_type": "code",
   "execution_count": null,
   "id": "3a077124",
   "metadata": {},
   "outputs": [],
   "source": [
    "#Print the sum of the numbers, BUT ignore any section of numbers starting with a 6 \n",
    "# and extending to the next 7. So [11, 6, 4, 99, 7, 11] would have sum of 22\n",
    "\n",
    "numbers = [1, 6, 2, 2, 7, 1, 6, 13, 99, 7]\n",
    "sum_after_six = 0\n",
    "count = 0\n",
    "stop = False\n",
    "\n",
    "for num in numbers:\n",
    "    count += num\n",
    "    sum_after_six += num\n",
    "    if num == 6:\n",
    "        stop = True\n",
    "        sum_after_six = num\n",
    "    elif stop and num == 7:\n",
    "        count -= sum_after_six\n",
    "        stop = False\n",
    "        sum_after_six = 0\n",
    "\n",
    "print(count)       "
   ]
  },
  {
   "cell_type": "code",
   "execution_count": null,
   "id": "81cf7019",
   "metadata": {},
   "outputs": [],
   "source": [
    "# task 5\n",
    "\n",
    "# Write a conditional that takes in two inputs :\n",
    "\n",
    "python_is_fun = False\n",
    "python_is_weird = False\n",
    "\n",
    "#We want to print \"Woo Python!\" if either python_is_fun is true OR \n",
    "#python_is_weird is true OR both python_is_fun and python_is_weird are true. \n",
    "#Otherwise, print \"Python is not for me!\". Make sure you test all the combinations.\n",
    "\n",
    "if python_is_fun == True or python_is_weird == True:\n",
    "    print(\"Woo Python!\")\n",
    "else:\n",
    "    print(\"Python is not for me\")"
   ]
  },
  {
   "cell_type": "code",
   "execution_count": null,
   "id": "1b3acfa3",
   "metadata": {},
   "outputs": [],
   "source": [
    "# task 6\n",
    "def egg_count(eggs):\n",
    "    total_eggs = 0 \n",
    "    for i in eggs:\n",
    "        total_eggs = total_eggs + i\n",
    "    return(f\"{total_eggs} eggs collected\")\n"
   ]
  },
  {
   "cell_type": "code",
   "execution_count": null,
   "id": "be65df70",
   "metadata": {},
   "outputs": [],
   "source": [
    "eggs = [3,5,6,7,7,8]\n",
    "egg_count(eggs)"
   ]
  },
  {
   "cell_type": "code",
   "execution_count": 12,
   "id": "d7cac311",
   "metadata": {},
   "outputs": [
    {
     "data": {
      "text/plain": [
       "list"
      ]
     },
     "execution_count": 12,
     "metadata": {},
     "output_type": "execute_result"
    }
   ],
   "source": [
    "# extension 1\n",
    "\n",
    "united_kingdom = [\n",
    "  {\n",
    "    \"name\": \"Scotland\",\n",
    "    \"population\": 5295000,\n",
    "    \"capital\": \"Edinburgh\"\n",
    "  },\n",
    "  {\n",
    "    \"name\": \"Wales\",\n",
    "    \"population\": 3063000,\n",
    "    \"capital\": \"Swansea\"\n",
    "  },\n",
    "  {\n",
    "    \"name\": \"England\",\n",
    "    \"population\": 53010000,\n",
    "    \"capital\": \"London\"\n",
    "  }\n",
    "]\n",
    "\n",
    "# change name to cardiff\n",
    "united_kingdom[1][\"capital\"] = \"Cardiff\"\n",
    "\n",
    "type(united_kingdom)"
   ]
  },
  {
   "cell_type": "code",
   "execution_count": 13,
   "id": "fe7e4b57",
   "metadata": {},
   "outputs": [
    {
     "data": {
      "text/plain": [
       "[{'name': 'Scotland', 'population': 5295000, 'capital': 'Edinburgh'},\n",
       " {'name': 'Wales', 'population': 3063000, 'capital': 'Cardiff'},\n",
       " {'name': 'England', 'population': 53010000, 'capital': 'London'},\n",
       " {'name': 'Northern Ireland', 'population': 1811000, 'capital': 'Belfast'}]"
      ]
     },
     "execution_count": 13,
     "metadata": {},
     "output_type": "execute_result"
    }
   ],
   "source": [
    "# add Northern Ireland\n",
    "\n",
    "northern_ireland = {\"name\":\"Northern Ireland\", \"population\":1811000, \"capital\":\"Belfast\"}\n",
    "\n",
    "united_kingdom.append(northern_ireland)\n",
    "\n",
    "united_kingdom\n",
    "\n"
   ]
  },
  {
   "cell_type": "code",
   "execution_count": 14,
   "id": "48e63b28",
   "metadata": {},
   "outputs": [
    {
     "data": {
      "text/plain": [
       "[]"
      ]
     },
     "execution_count": 14,
     "metadata": {},
     "output_type": "execute_result"
    }
   ],
   "source": []
  },
  {
   "cell_type": "code",
   "execution_count": 15,
   "id": "7254fbd8",
   "metadata": {},
   "outputs": [
    {
     "name": "stdout",
     "output_type": "stream",
     "text": [
      "Scotland\n",
      "Wales\n",
      "England\n",
      "Northern Ireland\n"
     ]
    }
   ],
   "source": [
    "for i in united_kingdom:\n",
    "    print(i[\"name\"])"
   ]
  },
  {
   "cell_type": "code",
   "execution_count": 17,
   "id": "e0a2f963",
   "metadata": {},
   "outputs": [
    {
     "name": "stdout",
     "output_type": "stream",
     "text": [
      "63179000\n"
     ]
    }
   ],
   "source": [
    "total_population = 0 \n",
    "count = 0\n",
    "\n",
    "while count < len(united_kingdom):\n",
    "    for i in united_kingdom:\n",
    "        total_population = total_population + i[\"population\"]\n",
    "        count = count + 1\n",
    "    \n",
    "    print(total_population)"
   ]
  },
  {
   "cell_type": "code",
   "execution_count": 19,
   "id": "6617aa8b",
   "metadata": {},
   "outputs": [],
   "source": [
    "users = {\n",
    "  \"Jonathan\": {\n",
    "    \"twitter\": \"jonnyt\",\n",
    "    \"lottery_numbers\": [6, 12, 49, 33, 45, 20],\n",
    "    \"home_town\": \"Stirling\",\n",
    "    \"pets\": [\n",
    "    {\n",
    "      \"name\": \"fluffy\",\n",
    "      \"species\": \"cat\"\n",
    "    },\n",
    "    {\n",
    "      \"name\": \"fido\",\n",
    "      \"species\": \"dog\"\n",
    "    },\n",
    "    {\n",
    "      \"name\": \"spike\",\n",
    "      \"species\": \"dog\"\n",
    "    }\n",
    "  ]\n",
    "  },\n",
    "  \"Erik\": {\n",
    "    \"twitter\": \"eriksf\",\n",
    "    \"lottery_numbers\": [18, 34, 8, 11, 24],\n",
    "    \"home_town\": \"Linlithgow\",\n",
    "    \"pets\": [\n",
    "    {\n",
    "      \"name\": \"nemo\",\n",
    "      \"species\": \"fish\"\n",
    "    },\n",
    "    {\n",
    "      \"name\": \"kevin\",\n",
    "      \"species\": \"fish\"\n",
    "    },\n",
    "    {\n",
    "      \"name\": \"spike\",\n",
    "      \"species\": \"dog\"\n",
    "    },\n",
    "    {\n",
    "      \"name\": \"rupert\",\n",
    "      \"species\": \"parrot\"\n",
    "    }\n",
    "  ]\n",
    "  },\n",
    "  \"Avril\": {\n",
    "    \"twitter\": \"bridgpally\",\n",
    "    \"lottery_numbers\": [12, 14, 33, 38, 9, 25],\n",
    "    \"home_town\": \"Dunbar\",\n",
    "    \"pets\": [\n",
    "      {\n",
    "        \"name\": \"monty\",\n",
    "        \"species\": \"snake\"\n",
    "      }\n",
    "    ]\n",
    "  }\n",
    "}"
   ]
  },
  {
   "cell_type": "code",
   "execution_count": 23,
   "id": "be96a669",
   "metadata": {},
   "outputs": [
    {
     "data": {
      "text/plain": [
       "'jonnyt'"
      ]
     },
     "execution_count": 23,
     "metadata": {},
     "output_type": "execute_result"
    }
   ],
   "source": [
    "#Get Jonathan's Twitter handle (i.e. the string \"jonnyt\")\n",
    "users[\"Jonathan\"][\"twitter\"]\n"
   ]
  },
  {
   "cell_type": "code",
   "execution_count": 26,
   "id": "d5922441",
   "metadata": {},
   "outputs": [
    {
     "data": {
      "text/plain": [
       "[18, 34, 8, 11, 24]"
      ]
     },
     "execution_count": 26,
     "metadata": {},
     "output_type": "execute_result"
    }
   ],
   "source": [
    "#Get the array of Erik's lottery numbers\n",
    "\n",
    "users[\"Erik\"][\"lottery_numbers\"]"
   ]
  },
  {
   "cell_type": "code",
   "execution_count": 35,
   "id": "27abc55d",
   "metadata": {},
   "outputs": [
    {
     "data": {
      "text/plain": [
       "[{'name': 'monty', 'species': 'snake'}]"
      ]
     },
     "execution_count": 35,
     "metadata": {},
     "output_type": "execute_result"
    }
   ],
   "source": [
    "#Get the species of Avril's pet Monty\n",
    "\n",
    "users[\"Avril\"][\"pets\"]"
   ]
  },
  {
   "cell_type": "code",
   "execution_count": null,
   "id": "1f035957",
   "metadata": {},
   "outputs": [],
   "source": [
    "#Get Erik's hometown\n",
    "#Get the array of Erik's lottery numbers\n",
    "#Get the species of Avril's pet Monty\n",
    "#Get the smallest of Erik's lottery numbers\n",
    "#Return an array of Avril's lottery numbers that are even\n",
    "#Erik is one lottery number short! Add the number 7 to be included in his lottery numbers\n",
    "#Change Erik's hometown to Edinburgh\n",
    "#Add a pet dog to Erik called \"Fluffy\"\n",
    "#Add another person to the users dictionary"
   ]
  },
  {
   "cell_type": "code",
   "execution_count": null,
   "id": "63e838d8",
   "metadata": {},
   "outputs": [],
   "source": []
  },
  {
   "cell_type": "code",
   "execution_count": null,
   "id": "661d88fc",
   "metadata": {},
   "outputs": [],
   "source": []
  }
 ],
 "metadata": {
  "kernelspec": {
   "display_name": "Python 3 (ipykernel)",
   "language": "python",
   "name": "python3"
  },
  "language_info": {
   "codemirror_mode": {
    "name": "ipython",
    "version": 3
   },
   "file_extension": ".py",
   "mimetype": "text/x-python",
   "name": "python",
   "nbconvert_exporter": "python",
   "pygments_lexer": "ipython3",
   "version": "3.9.12"
  },
  "varInspector": {
   "cols": {
    "lenName": 16,
    "lenType": 16,
    "lenVar": 40
   },
   "kernels_config": {
    "python": {
     "delete_cmd_postfix": "",
     "delete_cmd_prefix": "del ",
     "library": "var_list.py",
     "varRefreshCmd": "print(var_dic_list())"
    },
    "r": {
     "delete_cmd_postfix": ") ",
     "delete_cmd_prefix": "rm(",
     "library": "var_list.r",
     "varRefreshCmd": "cat(var_dic_list()) "
    }
   },
   "types_to_exclude": [
    "module",
    "function",
    "builtin_function_or_method",
    "instance",
    "_Feature"
   ],
   "window_display": false
  }
 },
 "nbformat": 4,
 "nbformat_minor": 5
}
